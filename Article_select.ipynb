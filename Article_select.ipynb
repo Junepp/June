{
 "cells": [
  {
   "cell_type": "code",
   "execution_count": 1,
   "metadata": {},
   "outputs": [],
   "source": [
    "#reference\n",
    "from konlpy.tag import Okt\n",
    "from collections import Counter\n",
    "import re"
   ]
  },
  {
   "cell_type": "code",
   "execution_count": 2,
   "metadata": {},
   "outputs": [],
   "source": [
    "#topic class\n",
    "class topic(object):\n",
    "    def get_freq(self, data):\n",
    "        pocket_size = 20\n",
    "        noun = []\n",
    "        noun_proto = okt.nouns(data)\n",
    "        \n",
    "        for words in noun_proto:\n",
    "            if (len(words)>1) and (words not in stop_words):\n",
    "                noun.append(words)\n",
    "                \n",
    "        count = Counter(noun)        \n",
    "        noun_list = count.most_common(pocket_size)\n",
    "    \n",
    "        if(len(noun_list) < pocket_size):\n",
    "            pocket_size = len(noun_list)\n",
    "        \n",
    "        return noun_list\n",
    "    \n",
    "    def get_topic(self, data, amount):\n",
    "        doc = []\n",
    "        for article in data:\n",
    "            freq_list = self.get_freq(article)\n",
    "            \n",
    "            for freq in freq_list:\n",
    "                doc.append((freq[0]))\n",
    "            \n",
    "        total = Counter(doc)\n",
    "    \n",
    "        return total.most_common(amount)\n",
    "    \n",
    "    # 특정 keyword 를 포함하는 기사만 활용해 topic 추출 > 연관단어 추출\n",
    "    def get_topic_include(self, data, amount, keyword):\n",
    "        doc = []\n",
    "        for article in data:\n",
    "            if(okt.nouns(article).count(keyword) == 0):continue\n",
    "                \n",
    "            freq_list = self.get_freq(article)\n",
    "\n",
    "            for freq in freq_list:\n",
    "                doc.append((freq[0]))\n",
    "            \n",
    "        total = Counter(doc)\n",
    "    \n",
    "        return total.most_common(amount)"
   ]
  },
  {
   "cell_type": "code",
   "execution_count": 3,
   "metadata": {},
   "outputs": [],
   "source": [
    "#weight calculater\n",
    "class calc(object):\n",
    "    def __init__(self, data):\n",
    "        self.data = data\n",
    "        \n",
    "    def cal_weight(self, topic_words):\n",
    "        freq_sum = 0\n",
    "        result_sum = 0\n",
    "        result_list = []\n",
    "        for words in topic_words: #핵심단어로 지정된 단어들이 등장한 문서의 합\n",
    "            freq_sum+= words[1]\n",
    "\n",
    "        for article in self.data:\n",
    "            result_sum = 0\n",
    "            for words in topic_words:\n",
    "                result_sum += words[1] * (okt.nouns(article).count(words[0])/len(article))\n",
    "                #result_sum += (words[1]/freq_sum) * (okt.nouns(article).count(words[0])/len(article)) 잠시변경\n",
    "            result_list.append(result_sum)\n",
    "        return result_list"
   ]
  },
  {
   "cell_type": "code",
   "execution_count": 4,
   "metadata": {},
   "outputs": [],
   "source": [
    "#result\n",
    "def result_generator(selec):\n",
    "    max_ = 0\n",
    "    index_ = 0\n",
    "    include = topics.get_topic_include(data_split, 10, main_topic[selec][0])\n",
    "    calculater = calc(data_split)\n",
    "    result = calculater.cal_weight(include)\n",
    "    i = 1\n",
    "    print(include[0][0],\"에 대해서\")\n",
    "    print(include)\n",
    "    for value in result:\n",
    "        print(i,\"번째기사 =\", value)\n",
    "        if(value > max_):\n",
    "            max_ = value\n",
    "            index_ = i\n",
    "        i+=1\n",
    "    print(\"max:\", index_,\"번째기사 =\", max_)\n",
    "    "
   ]
  },
  {
   "cell_type": "code",
   "execution_count": 5,
   "metadata": {},
   "outputs": [],
   "source": [
    "#main frame 1 - 데이터 로드 및 선언\n",
    "okt = Okt()\n",
    "doc = []\n",
    "topics = topic()\n",
    "\n",
    "#stop-words load\n",
    "fp = open(\"stopwords.txt\", \"r\", encoding = 'UTF8')\n",
    "stop_words = fp.read().split()\n",
    "\n",
    "#테스트용\n",
    "fp = open(\"input.txt\", \"r\", encoding = 'UTF8')\n",
    "data = fp.read()\n",
    "data_split = data.split(\"\\n\\n\")\n",
    "fp.close()#\n",
    "\n",
    "#실제\n",
    "#data = news_collector.collect()\n",
    "#data_split = data.split(\"\\n\\n\")"
   ]
  },
  {
   "cell_type": "code",
   "execution_count": 6,
   "metadata": {},
   "outputs": [
    {
     "name": "stdout",
     "output_type": "stream",
     "text": [
      "[('코로나', 5), ('정부', 4), ('경기도', 3), ('창고', 3), ('사람', 3)]\n"
     ]
    }
   ],
   "source": [
    "#main frame 2 - 전체 데이터(기사)의 토픽 > 핫이슈\n",
    "main_topic = topics.get_topic(data_split, 5)\n",
    "print(main_topic)"
   ]
  },
  {
   "cell_type": "code",
   "execution_count": 7,
   "metadata": {
    "scrolled": true
   },
   "outputs": [
    {
     "name": "stdout",
     "output_type": "stream",
     "text": [
      "<Topic: 코로나 >\n",
      "[('코로나', 5), ('정부', 4), ('경기도', 3), ('창고', 3), ('사람', 3), ('백신', 3), ('정도', 3), ('경찰', 3), ('새벽', 3), ('가격', 3)] \n",
      "\n",
      "<Topic: 정부 >\n",
      "[('정부', 4), ('중국', 2), ('코로나', 2), ('미국', 1), ('증상', 1), ('쿠바', 1), ('직원', 1), ('괴질', 1), ('원인', 1), ('공격', 1)] \n",
      "\n",
      "<Topic: 경기도 >\n",
      "[('경기도', 3), ('시흥시', 2), ('정왕동', 2), ('창고', 2), ('진화', 2), ('작업', 2), ('불로', 2), ('소방', 2), ('코로나', 2), ('백신', 2)] \n",
      "\n",
      "<Topic: 창고 >\n",
      "[('창고', 3), ('경기도', 2), ('시흥시', 2), ('정왕동', 2), ('진화', 2), ('작업', 2), ('불로', 2), ('소방', 2), ('코로나', 2), ('물류', 1)] \n",
      "\n",
      "<Topic: 사람 >\n",
      "[('사람', 3), ('정도', 3), ('정부', 2), ('경찰', 2), ('새벽', 2), ('인물', 2), ('진술', 2), ('실종', 2), ('친구', 2), ('낚시꾼', 2)] \n",
      "\n"
     ]
    }
   ],
   "source": [
    "#main frame 3 - 핫이슈 별 연관 키워드(해당 단어를 포함한 기사들만 모아서 재분석)\n",
    "for issue in main_topic:\n",
    "    include = topics.get_topic_include(data_split, 10, issue[0])\n",
    "    print(\"<Topic:\", issue[0],\">\")\n",
    "    print(include, \"\\n\")"
   ]
  },
  {
   "cell_type": "code",
   "execution_count": null,
   "metadata": {},
   "outputs": [
    {
     "name": "stdout",
     "output_type": "stream",
     "text": [
      "1:코로나 2:정부 3:경기도 4:창고 5:사람 0:종료\n",
      "입력:4\n",
      "창고 에 대해서\n",
      "[('창고', 3), ('경기도', 2), ('시흥시', 2), ('정왕동', 2), ('진화', 2), ('작업', 2), ('불로', 2), ('소방', 2), ('코로나', 2), ('물류', 1)]\n",
      "1 번째기사 = 0.0019083969465648854\n",
      "2 번째기사 = 0.0014134275618374558\n",
      "3 번째기사 = 0.111731843575419\n",
      "4 번째기사 = 0.0019743336623889436\n",
      "5 번째기사 = 0.0021164021164021165\n",
      "6 번째기사 = 0.0013123359580052493\n",
      "7 번째기사 = 0.0025906735751295338\n",
      "8 번째기사 = 0.02113022113022113\n",
      "9 번째기사 = 0.0830188679245283\n",
      "10 번째기사 = 0.002081165452653486\n",
      "11 번째기사 = 0.0148975791433892\n",
      "12 번째기사 = 0.000946969696969697\n",
      "13 번째기사 = 0.0032626427406199023\n",
      "14 번째기사 = 0.010638297872340425\n",
      "15 번째기사 = 0.0057859209257473485\n",
      "16 번째기사 = 0.004705882352941176\n",
      "17 번째기사 = 0.006060606060606061\n",
      "18 번째기사 = 0.0006851661527920521\n",
      "max: 3 번째기사 = 0.111731843575419\n",
      "입력:"
     ]
    }
   ],
   "source": [
    "#test1_사용자 입력\n",
    "status = True\n",
    "j = 0\n",
    "for words in main_topic:\n",
    "    print((j+1),\":\", words[0], sep ='', end = ' ')\n",
    "    j += 1\n",
    "print(\"0:종료\")\n",
    "\n",
    "while(status):\n",
    "    print(\"입력:\",end = '')\n",
    "    sel = int(input())-1 \n",
    "    if(sel == 0):result_generator(sel)\n",
    "    elif(sel == 1):result_generator(sel)\n",
    "    elif(sel == 2):result_generator(sel)\n",
    "    elif(sel == 3):result_generator(sel)\n",
    "    elif(sel == 4):result_generator(sel)\n",
    "    elif(sel == 0):status = False\n",
    "    else:print(\"입력이 잘못되었습니다\")"
   ]
  },
  {
   "cell_type": "code",
   "execution_count": null,
   "metadata": {},
   "outputs": [],
   "source": []
  }
 ],
 "metadata": {
  "kernelspec": {
   "display_name": "Python 3",
   "language": "python",
   "name": "python3"
  },
  "language_info": {
   "codemirror_mode": {
    "name": "ipython",
    "version": 3
   },
   "file_extension": ".py",
   "mimetype": "text/x-python",
   "name": "python",
   "nbconvert_exporter": "python",
   "pygments_lexer": "ipython3",
   "version": "3.8.5"
  }
 },
 "nbformat": 4,
 "nbformat_minor": 4
}
